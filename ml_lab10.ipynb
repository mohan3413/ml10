{
 "cells": [
  {
   "cell_type": "markdown",
   "id": "c72dde10",
   "metadata": {},
   "source": [
    "# 1"
   ]
  },
  {
   "cell_type": "code",
   "execution_count": 3,
   "id": "12004e8f",
   "metadata": {},
   "outputs": [
    {
     "name": "stdout",
     "output_type": "stream",
     "text": [
      "Accuracy: 0.5\n"
     ]
    }
   ],
   "source": [
    "import pandas as pd\n",
    "import numpy as np\n",
    "from sklearn.model_selection import train_test_split\n",
    "from sklearn.datasets import load_iris\n",
    "\n",
    "iris = load_iris()\n",
    "X = iris.data\n",
    "y = iris.target\n",
    "\n",
    "X = np.array([pd.qcut(x, q=4, labels=False, duplicates='drop') for x in X.T]).T\n",
    "\n",
    "X_train, X_test, y_train, y_test = train_test_split(X, y, test_size=0.2, random_state=42)\n",
    "\n",
    "prior_probs = np.bincount(y_train) / len(y_train)\n",
    "\n",
    "likelihood_probs = {}\n",
    "for class_ in np.unique(y_train):\n",
    "    likelihood_probs[class_] = [(pd.Series(X_train[y_train==class_, i]).value_counts() / len(X_train[y_train==class_, i])) for i in range(X_train.shape[1])]\n",
    "\n",
    "def predict(X):\n",
    "    posteriors = np.zeros((X.shape[0], len(np.unique(y_train))))\n",
    "    for class_ in np.unique(y_train):\n",
    "        for i in range(X.shape[1]):\n",
    "            posteriors[:, class_] += np.log(likelihood_probs[class_][i].get(X[:, i], 1e-6))\n",
    "        posteriors[:, class_] += np.log(prior_probs[class_])\n",
    "    return np.argmax(posteriors, axis=1)\n",
    "\n",
    "y_pred = predict(X_test)\n",
    "\n",
    "accuracy = np.mean(y_pred == y_test)\n",
    "print(f'Accuracy: {accuracy}')"
   ]
  },
  {
   "cell_type": "markdown",
   "id": "1bc0ddce",
   "metadata": {},
   "source": [
    "# 2"
   ]
  },
  {
   "cell_type": "code",
   "execution_count": 4,
   "id": "2f83b793",
   "metadata": {},
   "outputs": [
    {
     "name": "stdout",
     "output_type": "stream",
     "text": [
      "Accuracy: 0.9298245614035088\n"
     ]
    }
   ],
   "source": [
    "import pandas as pd\n",
    "import numpy as np\n",
    "from sklearn.model_selection import train_test_split\n",
    "from scipy.stats import norm\n",
    "\n",
    "data = pd.read_csv('Breast_cancer_data.csv')\n",
    "X = data.drop('diagnosis', axis=1).values\n",
    "y = data['diagnosis'].values\n",
    "\n",
    "X_train, X_test, y_train, y_test = train_test_split(X, y, test_size=0.2, random_state=42)\n",
    "\n",
    "summary = {}\n",
    "for class_ in np.unique(y_train):\n",
    "    summary[class_] = [(np.mean(feature), np.std(feature)) for feature in zip(*X_train[y_train==class_])]\n",
    "\n",
    "def gaussian_pdf(x, mean, std):\n",
    "    return norm.pdf(x, loc=mean, scale=std)\n",
    "\n",
    "def predict(X):\n",
    "    posteriors = np.zeros((X.shape[0], len(np.unique(y_train))))\n",
    "    for class_ in np.unique(y_train):\n",
    "        for i in range(X.shape[1]):\n",
    "            mean, std = summary[class_][i]\n",
    "            posteriors[:, class_] += np.log(gaussian_pdf(X[:, i], mean, std))\n",
    "    return np.argmax(posteriors, axis=1)\n",
    "\n",
    "y_pred = predict(X_test)\n",
    "\n",
    "accuracy = np.mean(y_pred == y_test)\n",
    "print(f'Accuracy: {accuracy}')"
   ]
  },
  {
   "cell_type": "code",
   "execution_count": null,
   "id": "70dabd70",
   "metadata": {},
   "outputs": [],
   "source": []
  }
 ],
 "metadata": {
  "kernelspec": {
   "display_name": "python 3.11.3 (tensorflow)",
   "language": "python",
   "name": "tensorflow"
  },
  "language_info": {
   "codemirror_mode": {
    "name": "ipython",
    "version": 3
   },
   "file_extension": ".py",
   "mimetype": "text/x-python",
   "name": "python",
   "nbconvert_exporter": "python",
   "pygments_lexer": "ipython3",
   "version": "3.9.17"
  }
 },
 "nbformat": 4,
 "nbformat_minor": 5
}
